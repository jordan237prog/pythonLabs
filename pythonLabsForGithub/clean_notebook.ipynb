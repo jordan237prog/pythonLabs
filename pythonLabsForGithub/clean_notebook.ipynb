{
 "cells": [
  {
   "cell_type": "code",
   "execution_count": 4,
   "id": "4c918cde",
   "metadata": {},
   "outputs": [],
   "source": [
    "import tools as util"
   ]
  },
  {
   "cell_type": "code",
   "execution_count": 3,
   "id": "b2d9d00f",
   "metadata": {},
   "outputs": [
    {
     "data": {
      "text/plain": [
       "['iris.data']"
      ]
     },
     "execution_count": 3,
     "metadata": {},
     "output_type": "execute_result"
    }
   ],
   "source": [
    "util.list_file_with_extension_cur_glob('data')"
   ]
  },
  {
   "cell_type": "code",
   "execution_count": null,
   "id": "f16b8076",
   "metadata": {
    "scrolled": true
   },
   "outputs": [],
   "source": []
  },
  {
   "cell_type": "code",
   "execution_count": null,
   "id": "602b550f",
   "metadata": {},
   "outputs": [],
   "source": []
  }
 ],
 "metadata": {
  "kernelspec": {
   "display_name": "Python 3",
   "language": "python",
   "name": "python3"
  },
  "language_info": {
   "codemirror_mode": {
    "name": "ipython",
    "version": 3
   },
   "file_extension": ".py",
   "mimetype": "text/x-python",
   "name": "python",
   "nbconvert_exporter": "python",
   "pygments_lexer": "ipython3",
   "version": "3.8.10"
  }
 },
 "nbformat": 4,
 "nbformat_minor": 5
}
